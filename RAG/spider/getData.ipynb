{
 "cells": [
  {
   "cell_type": "code",
   "execution_count": 16,
   "metadata": {},
   "outputs": [],
   "source": [
    "import requests\n",
    "from bs4 import BeautifulSoup\n",
    "import pandas as pd\n",
    "import time"
   ]
  },
  {
   "cell_type": "code",
   "execution_count": 17,
   "metadata": {},
   "outputs": [],
   "source": [
    "# 创建一个空的DataFrame来存储数据\n",
    "df = pd.DataFrame(columns=['topic', 'feature', 'describe'])"
   ]
  },
  {
   "cell_type": "code",
   "execution_count": 18,
   "metadata": {},
   "outputs": [],
   "source": [
    "urls_and_topics = {\n",
    "    \"http://www.yusoo.com.tw/mobile.php?dir=Palmistry&web=chiromancy_information&kw=heart_line\": \"感情線(天紋)\",\n",
    "    \"http://www.yusoo.com.tw/mobile.php?dir=Palmistry&web=chiromancy_information&kw=life_line\": \"生命線(地紋)\",\n",
    "    \"http://www.yusoo.com.tw/mobile.php?dir=Palmistry&web=chiromancy_information&kw=head_line\": \"智慧線(人紋)\",\n",
    "    \"http://www.yusoo.com.tw/mobile.php?dir=Palmistry&web=chiromancy_information&kw=mariage_line\": \"婚姻線(家風紋)\",\n",
    "    \"http://www.yusoo.com.tw/mobile.php?dir=Palmistry&web=chiromancy_information&kw=children\": \"子女線(家風紋)\",\n",
    "    \"http://www.yusoo.com.tw/mobile.php?dir=Palmistry&web=chiromancy_information&kw=fate_line\": \"事業線(天喜紋)\",\n",
    "    \"http://www.yusoo.com.tw/mobile.php?dir=Palmistry&web=chiromancy_information&kw=girdle_of_venvs\": \"金星帶(橫財紋)\",\n",
    "    \"http://www.yusoo.com.tw/mobile.php?dir=Palmistry&web=chiromancy_information&kw=apollo_line\": \"太陽線(高扶紋)\",\n",
    "    \"http://www.yusoo.com.tw/mobile.php?dir=Palmistry&web=chiromancy_information&kw=mentor\": \"火星線(貴人紋)\",\n",
    "    \"http://www.yusoo.com.tw/mobile.php?dir=Palmistry&web=chiromancy_information&kw=bracelet\": \"手腕線(動脈紋)\",\n",
    "    \"http://www.yusoo.com.tw/mobile.php?dir=Palmistry&web=chiromancy_information&kw=health_line\": \"健康線\",\n",
    "    \"http://www.yusoo.com.tw/mobile.php?dir=Palmistry&web=chiromancy_information&kw=travel\": \"旅行線\"\n",
    "}"
   ]
  },
  {
   "cell_type": "code",
   "execution_count": 19,
   "metadata": {},
   "outputs": [],
   "source": [
    "# 遍历URL和主题\n",
    "for url, topic in urls_and_topics.items():\n",
    "    for page in range(1, 7):  # 循环遍历所有6页\n",
    "        if page == 1:\n",
    "            full_url = url\n",
    "        else:\n",
    "            full_url = f\"{url}&page={page}\"\n",
    "\n",
    "        # 发起HTTP GET请求\n",
    "        response = requests.get(full_url)\n",
    "        time.sleep(0.5)\n",
    "        # 检查请求是否成功\n",
    "        if response.status_code == 200:\n",
    "            # 使用BeautifulSoup解析HTML\n",
    "            soup = BeautifulSoup(response.content, 'html.parser')\n",
    "\n",
    "            # 查找所有class为'pal_list'的div元素\n",
    "            divs = soup.find_all('div', class_='pal_list')\n",
    "\n",
    "            # 存储当前页的数据\n",
    "            page_data = []\n",
    "\n",
    "            # 遍历这些div元素\n",
    "            for div in divs:\n",
    "                # 获取标题\n",
    "                title = div.find('h3').get_text()\n",
    "                # 获取段落内容\n",
    "                paragraph = div.find('p').get_text().replace('\\n', '')\n",
    "\n",
    "                # 将数据添加到列表中\n",
    "                page_data.append({\n",
    "                    'topic': topic,\n",
    "                    'feature': title,\n",
    "                    'describe': paragraph\n",
    "                })\n",
    "\n",
    "            # 将当前页的数据转化为DataFrame并与主DataFrame合并\n",
    "            df = pd.concat([df, pd.DataFrame(page_data)], ignore_index=True)\n",
    "        else:\n",
    "            print(f'请求{topic}的第{page}页失败，状态代码:', response.status_code)"
   ]
  },
  {
   "cell_type": "code",
   "execution_count": 20,
   "metadata": {},
   "outputs": [],
   "source": [
    "df.to_csv('../data/data1.csv', index=False, encoding='utf-8')"
   ]
  },
  {
   "cell_type": "code",
   "execution_count": null,
   "metadata": {},
   "outputs": [],
   "source": []
  }
 ],
 "metadata": {
  "kernelspec": {
   "display_name": "Python 3.9.18 ('my_pytorch')",
   "language": "python",
   "name": "python3"
  },
  "language_info": {
   "codemirror_mode": {
    "name": "ipython",
    "version": 3
   },
   "file_extension": ".py",
   "mimetype": "text/x-python",
   "name": "python",
   "nbconvert_exporter": "python",
   "pygments_lexer": "ipython3",
   "version": "3.9.18"
  },
  "orig_nbformat": 4,
  "vscode": {
   "interpreter": {
    "hash": "89ce15f06e9c7630775e7e92434e446526d4a3f7c60a5439d34a99c99a0f9ddc"
   }
  }
 },
 "nbformat": 4,
 "nbformat_minor": 2
}
